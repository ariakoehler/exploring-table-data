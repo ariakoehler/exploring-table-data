{
 "cells": [
  {
   "attachments": {},
   "cell_type": "markdown",
   "metadata": {},
   "source": [
    "## 1. Business Understanding\n",
    "\n",
    "This dataset contains detailed specifications, release dates and prices of Intel CPUs. The list of features includes: number of cores and threads, base frequencies, cache, bus speeds, maximum temperatures, maximum memory size, max number of memory channels, as well as a number of additional metadata.\n",
    "\n",
    "The main inspiration for this dataset is to see how performance over price evolved over time as well as to examine the general computing power of Intel CPUs. This data was found at https://www.kaggle.com/trion129/intel-cpus-eda/ and as per the acknowledgement states, \"The data given here belongs mainly to Intel, Game-Debate, and the companies involved in producing the part. I do not own the data I uploaded it solely for informative purposes, under their original license.\"\n",
    "\n",
    "One question of interest to ask is whether we can predict when an active processor's status will change to End of Life or End of Interactive Support. This information is valuable to anyone who might be looking into purchasing one of Intel's CPUs. The benefit being that most consumers would want a product that will be supported by the manufacturer for a long time. Furthermore, Intel's competitors would have a huge competitive advantage as they can use this data, supplemented with market data to strategically figure out when to announce or release their own products. \n",
    "\n",
    "### Measure of Success\n",
    "\n",
    "Now to discuss what a successful prediction would mean. As most cases, we want our machine learning algorithm to be accurate most of the time. Since our accuracy is dependent on how close our prediction is rather than a simple hit or miss situation, we should consider our measure of success based on being correct within a specific margin of error.\n",
    "\n",
    "Because accuracy is determined by correctly \"guessing\" the correct timeframe when a specific product's status changes to End of Life or to End of Interactive Support, we must define what a timeframe is. To simplify things, we divide our timeframes into yearly quarters. However, we must remember that the success of this predictive model is if it becomes beneficial to third party users. In this case we must establish an appropriate margin of error that fits this requirement.\n",
    "\n",
    "We decided that one quarter as our margin of error would be appropriate because at maximum, the error would be six months. We felt that this timeframe is accurate enough for consumers to consider this data useful in their product research. The further the margin of error, the less reliable and useful the predictive model becomes. \n",
    "\n",
    "For example, if our machine learning algorithm predicted that product A's status would change to End of Life in Q4 2020, but it was actually Q1 2021 then we would judge this to still be successful and useful to users. However, if the status changed to End of Life in Q2 2021 then we would consider this a failed prediction. \n",
    "\n",
    "The last thing to discuss is how often our machine learning algorithm needs to successfully predict the timeframe (within the margin of error) to be useful. Our judgement says that our success rate should be at least 50% all of the time. In addition, it should be accurate within the margin of error 70% of the time, and accurate within two margins or error 90% of the time. Accuracy outside these limits would make this predictive algorithm worthless to users.\n",
    "\n",
    "----------------------------------------------------------------------------------------------------------------------\n",
    "Dataset: Intel_CPUs EDA URL: https://www.kaggle.com/trion129/intel-cpus-eda/\n",
    "\n",
    "Question of Interest: Which Processors are close to End of Life and End of Interactive Support Status?\n"
   ]
  },
  {
   "cell_type": "code",
   "execution_count": null,
   "metadata": {
    "collapsed": true
   },
   "outputs": [],
   "source": []
  }
 ],
 "metadata": {
  "kernelspec": {
   "display_name": "Python 3",
   "language": "python",
   "name": "python3"
  },
  "language_info": {
   "codemirror_mode": {
    "name": "ipython",
    "version": 3
   },
   "file_extension": ".py",
   "mimetype": "text/x-python",
   "name": "python",
   "nbconvert_exporter": "python",
   "pygments_lexer": "ipython3",
   "version": "3.6.3"
  }
 },
 "nbformat": 4,
 "nbformat_minor": 2
}
