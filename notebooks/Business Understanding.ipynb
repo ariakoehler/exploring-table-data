{
 "cells": [
  {
   "attachments": {},
   "cell_type": "markdown",
   "metadata": {},
   "source": [
    "## 1. Business Understanding\n",
    "\n",
    "This dataset contains detailed specifications, release dates and prices of Intel CPUs. The list of features includes: number of cores and threads, base frequencies, cache, bus speeds, maximum temperatures, maximum memory size, max number of memory channels, as well as a number of additional metadata.\n",
    "\n",
    "The main inspiration for this dataset is to see how performance over price evolved over time as well as to examine the general computing power of Intel CPUs. This data was found at https://www.kaggle.com/trion129/intel-cpus-eda/ and as per the acknowledgement states, \"The data given here belongs mainly to Intel, Game-Debate, and the companies involved in producing the part. I do not own the data I uploaded it solely for informative purposes, under their original license.\"\n",
    "\n",
    "One question of interest to ask is whether we can predict when an active processor's status will change to End of Life or End of Interactive Support. This information is valuable to anyone who might be looking into purchasing one of Intel's CPUs. The benefit being that most consumers would want a product that will be supported by the manufacturer for a long time. Furthermore, Intel's competitors would have a huge competitive advantage as they can use this data, supplemented with market data to strategically figure out when to announce or release their own products. \n",
    "\n",
    "### Measure of Success\n",
    "\n",
    "Once you begin modeling, how well would your prediction algorithm need to perform to be considered useful to these third parties? Be specific and use your own words to describe the aspects of the data.\n",
    "\n",
    "\n",
    "\n",
    "\n",
    "----------------------------------------------------------------------------------------------------------------------\n",
    "Dataset: Intel_CPUs EDA URL: https://www.kaggle.com/trion129/intel-cpus-eda/\n",
    "\n",
    "Question of Interest: Which is the next Processor to End Interactive Support?\n"
   ]
  },
  {
   "cell_type": "code",
   "execution_count": null,
   "metadata": {
    "collapsed": true
   },
   "outputs": [],
   "source": []
  }
 ],
 "metadata": {
  "kernelspec": {
   "display_name": "Python 3",
   "language": "python",
   "name": "python3"
  },
  "language_info": {
   "codemirror_mode": {
    "name": "ipython",
    "version": 3
   },
   "file_extension": ".py",
   "mimetype": "text/x-python",
   "name": "python",
   "nbconvert_exporter": "python",
   "pygments_lexer": "ipython3",
   "version": "3.6.3"
  }
 },
 "nbformat": 4,
 "nbformat_minor": 2
}
